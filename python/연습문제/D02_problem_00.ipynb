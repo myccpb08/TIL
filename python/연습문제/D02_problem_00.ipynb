{
 "cells": [
  {
   "cell_type": "markdown",
   "metadata": {},
   "source": [
    "# 가상화폐 시세 판단하기"
   ]
  },
  {
   "cell_type": "markdown",
   "metadata": {},
   "source": [
    "> 최고가와 최저가의 차이를 변동폭으로 정의할 때 (시가 + 변동폭)이 최고가 보다 높을 경우 \"상승장\", 그렇지 않은 경우 \"하락장\" 문자열을 출력하라.\n",
    "\n",
    "|Key Name        |     Description|\n",
    "|---|---|\n",
    "|opeing_price    |최근 24시간 내 시작 거래금액|\n",
    "|closing_price   |최근 24시간 내 마지막 거래금액|\n",
    "|min_price       |최근 24시간 내 최저 거래금액|\n",
    "|max_price       |최근 24시간 내 최고 거래금액|"
   ]
  },
  {
   "cell_type": "code",
   "execution_count": 1,
   "metadata": {},
   "outputs": [
    {
     "name": "stdout",
     "output_type": "stream",
     "text": [
      "{'opening_price': '4270000', 'closing_price': '4331000', 'min_price': '4240000', 'max_price': '4379000', 'average_price': '4308714.9648', 'units_traded': '15799.8652765', 'volume_1day': '15799.8652765', 'volume_7day': '43048.60966475', 'buy_price': '4331000', 'sell_price': '4337000', '24H_fluctate': '61000', '24H_fluctate_rate': '1.42', 'date': '1546490310650'}\n"
     ]
    }
   ],
   "source": [
    "import requests\n",
    "btc = requests.get('https://api.bithumb.com/public/ticker/btc').json()['data']\n",
    "print(btc)"
   ]
  },
  {
   "cell_type": "code",
   "execution_count": 6,
   "metadata": {},
   "outputs": [
    {
     "name": "stdout",
     "output_type": "stream",
     "text": [
      "상승장\n"
     ]
    }
   ],
   "source": [
    "# 아래에 코드를 작성하세요.\n",
    "height = int(btc['opening_price'])+int(btc['max_price'])-int(btc['min_price'])\n",
    "if height > int(btc['max_price']):\n",
    "    print('상승장')\n",
    "else :\n",
    "    print('하락장')"
   ]
  },
  {
   "cell_type": "markdown",
   "metadata": {},
   "source": [
    "## 모든 가상화폐 시세 판단하기\n",
    "\n",
    "\n",
    "> currrency dictionary에 담겨있는 모든 가상화폐 거래내역을 바탕으로 출력하라.\n",
    ">\n",
    "> 예외 처리에 유의하세요.\n",
    "\n",
    "\n",
    "\n",
    "```\n",
    "예시 출력)\n",
    "BTC 상승장\n",
    "ETH 상승장\n",
    "DASH 상승장\n",
    "LTC 하락장\n",
    "ETC 하락장\n",
    "XRP 상승장\n",
    "BCH 상승장\n",
    "...\n",
    "```\n"
   ]
  },
  {
   "cell_type": "code",
   "execution_count": 7,
   "metadata": {},
   "outputs": [
    {
     "name": "stdout",
     "output_type": "stream",
     "text": [
      "{'BTC': {'opening_price': '4268000', 'closing_price': '4330000', 'min_price': '4240000', 'max_price': '4379000', 'average_price': '4308886.6744', 'units_traded': '15812.83581803', 'volume_1day': '15812.83581803', 'volume_7day': '43059.00396634', 'buy_price': '4330000', 'sell_price': '4335000', '24H_fluctate': '62000', '24H_fluctate_rate': '1.45'}, 'ETH': {'opening_price': '157200', 'closing_price': '172000', 'min_price': '156600', 'max_price': '174000', 'average_price': '167865.9828', 'units_traded': '522494.35310731', 'volume_1day': '522494.35310731', 'volume_7day': '1549711.385746324597840048', 'buy_price': '172000', 'sell_price': '172300', '24H_fluctate': '14800', '24H_fluctate_rate': '9.41'}, 'DASH': {'opening_price': '89500', 'closing_price': '93500', 'min_price': '88000', 'max_price': '94800', 'average_price': '93105.7779', 'units_traded': '4481008.02693055', 'volume_1day': '4481008.02693055', 'volume_7day': '35204929.56632653', 'buy_price': '93100', 'sell_price': '93450', '24H_fluctate': '4000', '24H_fluctate_rate': '4.46'}, 'LTC': {'opening_price': '35470', 'closing_price': '36810', 'min_price': '35230', 'max_price': '37330', 'average_price': '36411.3809', 'units_traded': '74868.99283043', 'volume_1day': '74868.99283043', 'volume_7day': '178318.34450726', 'buy_price': '36810', 'sell_price': '36820', '24H_fluctate': '1340', '24H_fluctate_rate': '3.77'}, 'ETC': {'opening_price': '5845', 'closing_price': '5970', 'min_price': '5785', 'max_price': '6040', 'average_price': '5947.2839', 'units_traded': '189528.96587705', 'volume_1day': '189528.96587705', 'volume_7day': '1929409.401296646632995491', 'buy_price': '5960', 'sell_price': '5980', '24H_fluctate': '125', '24H_fluctate_rate': '2.13'}, 'XRP': {'opening_price': '403', 'closing_price': '411', 'min_price': '399', 'max_price': '420', 'average_price': '410.2685', 'units_traded': '73459026.77524041', 'volume_1day': '73459026.77524041', 'volume_7day': '507452330.34056138', 'buy_price': '411', 'sell_price': '412', '24H_fluctate': '8', '24H_fluctate_rate': '1.98'}, 'BCH': {'opening_price': '182300', 'closing_price': '189000', 'min_price': '179600', 'max_price': '195900', 'average_price': '186266.4085', 'units_traded': '77206.01986728', 'volume_1day': '77206.01986728', 'volume_7day': '607854.39205281', 'buy_price': '189000', 'sell_price': '189100', '24H_fluctate': '6700', '24H_fluctate_rate': '3.67'}, 'XMR': {'opening_price': '53600', 'closing_price': '57150', 'min_price': '53400', 'max_price': '59600', 'average_price': '57467.1373', 'units_traded': '12330954.64590932', 'volume_1day': '12330954.64590932', 'volume_7day': '55998869.42029975087', 'buy_price': '57100', 'sell_price': '57300', '24H_fluctate': '3550', '24H_fluctate_rate': '6.62'}, 'ZEC': {'opening_price': '65300', 'closing_price': '67150', 'min_price': '64400', 'max_price': '69150', 'average_price': '67004.6796', 'units_traded': '884891.83781206', 'volume_1day': '884891.83781206', 'volume_7day': '42233771.09704041', 'buy_price': '67050', 'sell_price': '67300', '24H_fluctate': '1850', '24H_fluctate_rate': '2.83'}, 'QTUM': {'opening_price': '2491', 'closing_price': '2555', 'min_price': '2434', 'max_price': '2599', 'average_price': '2528.7421', 'units_traded': '346740.4214677', 'volume_1day': '346740.4214677', 'volume_7day': '5291162.26463097', 'buy_price': '2554', 'sell_price': '2555', '24H_fluctate': '64', '24H_fluctate_rate': '2.56'}, 'BTG': {'opening_price': '14530', 'closing_price': '14840', 'min_price': '14300', 'max_price': '15100', 'average_price': '14884.4736', 'units_traded': '20749893.80461512', 'volume_1day': '20749893.80461512', 'volume_7day': '95384807.51321575', 'buy_price': '14840', 'sell_price': '14870', '24H_fluctate': '310', '24H_fluctate_rate': '2.13'}, 'EOS': {'opening_price': '2942', 'closing_price': '3151', 'min_price': '2926', 'max_price': '3204', 'average_price': '3080.3742', 'units_traded': '3657878.25048754', 'volume_1day': '3657878.25048754', 'volume_7day': '24552183.00526815', 'buy_price': '3148', 'sell_price': '3150', '24H_fluctate': '209', '24H_fluctate_rate': '7.10'}, 'ICX': {'opening_price': '271', 'closing_price': '292', 'min_price': '269', 'max_price': '297', 'average_price': '282.9852', 'units_traded': '992198.78236714', 'volume_1day': '992198.78236714', 'volume_7day': '3605096.64453377154449053', 'buy_price': '292', 'sell_price': '295', '24H_fluctate': '21', '24H_fluctate_rate': '7.74'}, 'VET': {'opening_price': '7.24', 'closing_price': '7.25', 'min_price': '7', 'max_price': '7.35', 'average_price': '7.2211', 'units_traded': '8905523.91378259', 'volume_1day': '8905523.91378259', 'volume_7day': '73680897.058210628192044491', 'buy_price': '7.23', 'sell_price': '7.25', '24H_fluctate': '0', '24H_fluctate_rate': '0.13'}, 'TRX': {'opening_price': '21.5', 'closing_price': '22.1', 'min_price': '21.3', 'max_price': '22.5', 'average_price': '21.9424', 'units_traded': '106098197.0458905', 'volume_1day': '106098197.0458905', 'volume_7day': '881335523.27927154', 'buy_price': '22', 'sell_price': '22.1', '24H_fluctate': '0.6', '24H_fluctate_rate': '2.79'}, 'ELF': {'opening_price': '126', 'closing_price': '129', 'min_price': '123', 'max_price': '132', 'average_price': '127.9548', 'units_traded': '1976749.91548338', 'volume_1day': '1976749.91548338', 'volume_7day': '16187229.727460584399320283', 'buy_price': '128', 'sell_price': '129', '24H_fluctate': '3', '24H_fluctate_rate': '2.38'}, 'MITH': {'opening_price': '69.4', 'closing_price': '70.8', 'min_price': '68.1', 'max_price': '72.5', 'average_price': '70.4724', 'units_traded': '13483085.87877066', 'volume_1day': '13483085.87877066', 'volume_7day': '114297099.837334075138812498', 'buy_price': '70.8', 'sell_price': '71', '24H_fluctate': '1.4', '24H_fluctate_rate': '2.01'}, 'MCO': {'opening_price': '2451', 'closing_price': '2605', 'min_price': '2409', 'max_price': '2700', 'average_price': '2572.2515', 'units_traded': '832754.61565181', 'volume_1day': '832754.61565181', 'volume_7day': '1166667.12782396', 'buy_price': '2604', 'sell_price': '2629', '24H_fluctate': '154', '24H_fluctate_rate': '6.28'}, 'OMG': {'opening_price': '1600', 'closing_price': '1673', 'min_price': '1588', 'max_price': '1705', 'average_price': '1652.2868', 'units_traded': '203945.96772042', 'volume_1day': '203945.96772042', 'volume_7day': '9961439.121676881507231663', 'buy_price': '1660', 'sell_price': '1673', '24H_fluctate': '73', '24H_fluctate_rate': '4.56'}, 'KNC': {'opening_price': '178', 'closing_price': '184', 'min_price': '178', 'max_price': '188', 'average_price': '182.482', 'units_traded': '1256871.431192', 'volume_1day': '1256871.431192', 'volume_7day': '7459210.496976792226516373', 'buy_price': '184', 'sell_price': '186', '24H_fluctate': '6', '24H_fluctate_rate': '3.37'}, 'GNT': {'opening_price': '74.8', 'closing_price': '77.8', 'min_price': '74.4', 'max_price': '79', 'average_price': '77.2709', 'units_traded': '2591596.50636369', 'volume_1day': '2591596.50636369', 'volume_7day': '37919479.182510589477199817', 'buy_price': '77.1', 'sell_price': '78.2', '24H_fluctate': '3', '24H_fluctate_rate': '4.01'}, 'ZIL': {'opening_price': '22.9', 'closing_price': '22.7', 'min_price': '22.1', 'max_price': '23.3', 'average_price': '22.7798', 'units_traded': '33660985.67248878', 'volume_1day': '33660985.67248878', 'volume_7day': '470525752.133766746086', 'buy_price': '22.6', 'sell_price': '22.7', '24H_fluctate': '-0.2', '24H_fluctate_rate': '-0.87'}, 'ETHOS': {'opening_price': '1132', 'closing_price': '1118', 'min_price': '1060', 'max_price': '1156', 'average_price': '1105.8354', 'units_traded': '385766.93914974', 'volume_1day': '385766.93914974', 'volume_7day': '7598297.55875883', 'buy_price': '1103', 'sell_price': '1113', '24H_fluctate': '-14', '24H_fluctate_rate': '-1.23'}, 'PAY': {'opening_price': '1860', 'closing_price': '1801', 'min_price': '1690', 'max_price': '1875', 'average_price': '1797.4483', 'units_traded': '550259.131794', 'volume_1day': '550259.131794', 'volume_7day': '12061881.637426976652719418', 'buy_price': '1800', 'sell_price': '1801', '24H_fluctate': '-59', '24H_fluctate_rate': '-3.17'}, 'WAX': {'opening_price': '109', 'closing_price': '107', 'min_price': '103', 'max_price': '110', 'average_price': '107.2368', 'units_traded': '1364876.71325296', 'volume_1day': '1364876.71325296', 'volume_7day': '21467785.61866097', 'buy_price': '106', 'sell_price': '107', '24H_fluctate': '-2', '24H_fluctate_rate': '-1.83'}, 'POWR': {'opening_price': '560', 'closing_price': '540', 'min_price': '500', 'max_price': '566', 'average_price': '537.5166', 'units_traded': '857675.38230137', 'volume_1day': '857675.38230137', 'volume_7day': '7860649.90149574', 'buy_price': '539', 'sell_price': '540', '24H_fluctate': '-20', '24H_fluctate_rate': '-3.57'}, 'LRC': {'opening_price': '602', 'closing_price': '586', 'min_price': '568', 'max_price': '610', 'average_price': '589.9831', 'units_traded': '346089.81046611', 'volume_1day': '346089.81046611', 'volume_7day': '3878987.412022897867907104', 'buy_price': '585', 'sell_price': '593', '24H_fluctate': '-16', '24H_fluctate_rate': '-2.65'}, 'GTO': {'opening_price': '74.7', 'closing_price': '72.8', 'min_price': '70.5', 'max_price': '74.7', 'average_price': '72.5317', 'units_traded': '2113293.57124819', 'volume_1day': '2113293.57124819', 'volume_7day': '25735167.45887941', 'buy_price': '72.2', 'sell_price': '72.8', '24H_fluctate': '-1.9', '24H_fluctate_rate': '-2.54'}, 'STEEM': {'opening_price': '1852', 'closing_price': '1853', 'min_price': '1800', 'max_price': '1919', 'average_price': '1852.3872', 'units_traded': '121108.84007375', 'volume_1day': '121108.84007375', 'volume_7day': '1683670.2566389', 'buy_price': '1848', 'sell_price': '1853', '24H_fluctate': '1', '24H_fluctate_rate': '0.05'}, 'STRAT': {'opening_price': '2935', 'closing_price': '2830', 'min_price': '2697', 'max_price': '2935', 'average_price': '2836.4413', 'units_traded': '86989.2920979', 'volume_1day': '86989.2920979', 'volume_7day': '715044.36418604', 'buy_price': '2830', 'sell_price': '2866', '24H_fluctate': '-105', '24H_fluctate_rate': '-3.57'}, 'ZRX': {'opening_price': '353', 'closing_price': '365', 'min_price': '353', 'max_price': '367', 'average_price': '360.7108', 'units_traded': '762898.19394643', 'volume_1day': '762898.19394643', 'volume_7day': '7113739.224705206988258056', 'buy_price': '363', 'sell_price': '364', '24H_fluctate': '12', '24H_fluctate_rate': '3.39'}, 'REP': {'opening_price': '98200', 'closing_price': '98450', 'min_price': '95650', 'max_price': '101000', 'average_price': '98062.8192', 'units_traded': '5979.13222481', 'volume_1day': '5979.13222481', 'volume_7day': '98923.111596350512509211', 'buy_price': '98450', 'sell_price': '98800', '24H_fluctate': '250', '24H_fluctate_rate': '0.25'}, 'AE': {'opening_price': '1685', 'closing_price': '1650', 'min_price': '1605', 'max_price': '1720', 'average_price': '1651.7639', 'units_traded': '141360.98436829', 'volume_1day': '141360.98436829', 'volume_7day': '2319643.579637368926801516', 'buy_price': '1649', 'sell_price': '1650', '24H_fluctate': '-35', '24H_fluctate_rate': '-2.07'}, 'XEM': {'opening_price': '72.7', 'closing_price': '74.3', 'min_price': '71.2', 'max_price': '87.8', 'average_price': '76.0453', 'units_traded': '9544686.49144388', 'volume_1day': '9544686.49144388', 'volume_7day': '21148690.67103642', 'buy_price': '73.5', 'sell_price': '74.3', '24H_fluctate': '1.6', '24H_fluctate_rate': '2.20'}, 'SNT': {'opening_price': '117', 'closing_price': '120', 'min_price': '108', 'max_price': '120', 'average_price': '116.102', 'units_traded': '3048278.97931696', 'volume_1day': '3048278.97931696', 'volume_7day': '25815266.657900793852414189', 'buy_price': '119', 'sell_price': '120', '24H_fluctate': '3', '24H_fluctate_rate': '2.56'}, 'ADA': {'opening_price': '76.9', 'closing_price': '78.7', 'min_price': '75.9', 'max_price': '79.5', 'average_price': '77.8639', 'units_traded': '2769129.18774736', 'volume_1day': '2769129.18774736', 'volume_7day': '40318324.24148218', 'buy_price': '78.7', 'sell_price': '78.8', '24H_fluctate': '1.8', '24H_fluctate_rate': '2.34'}, 'PPT': {'opening_price': '1670', 'closing_price': '1691', 'min_price': '1636', 'max_price': '1707', 'average_price': '1681.5402', 'units_traded': '34008.59858692', 'volume_1day': '34008.59858692', 'volume_7day': '757294.58974952', 'buy_price': '1675', 'sell_price': '1691', '24H_fluctate': '21', '24H_fluctate_rate': '1.25'}, 'CTXC': {'opening_price': '114', 'closing_price': '119', 'min_price': '112', 'max_price': '123', 'average_price': '117.8088', 'units_traded': '1756531.38519295', 'volume_1day': '1756531.38519295', 'volume_7day': '12084115.624507975775543446', 'buy_price': '119', 'sell_price': '120', '24H_fluctate': '5', '24H_fluctate_rate': '4.38'}, 'CMT': {'opening_price': '36.7', 'closing_price': '35.5', 'min_price': '32.4', 'max_price': '38.1', 'average_price': '36.1136', 'units_traded': '13826773.57400321', 'volume_1day': '13826773.57400321', 'volume_7day': '40554801.276410217290073956', 'buy_price': '34.8', 'sell_price': '35.5', '24H_fluctate': '-1.2', '24H_fluctate_rate': '-3.26'}, 'THETA': {'opening_price': '55', 'closing_price': '56.9', 'min_price': '52.8', 'max_price': '60', 'average_price': '55.7567', 'units_traded': '13046905.32873796', 'volume_1day': '13046905.32873796', 'volume_7day': '95419766.654409200836930498', 'buy_price': '56.5', 'sell_price': '57', '24H_fluctate': '1.9', '24H_fluctate_rate': '3.45'}, 'WTC': {'opening_price': '1260', 'closing_price': '1288', 'min_price': '1220', 'max_price': '1288', 'average_price': '1257.0021', 'units_traded': '105420.8187831', 'volume_1day': '105420.8187831', 'volume_7day': '2370016.395762167178244233', 'buy_price': '1266', 'sell_price': '1287', '24H_fluctate': '28', '24H_fluctate_rate': '2.22'}, 'ITC': {'opening_price': '137', 'closing_price': '140', 'min_price': '133', 'max_price': '142', 'average_price': '137.9424', 'units_traded': '2274385.54911271', 'volume_1day': '2274385.54911271', 'volume_7day': '28676128.620394788160658672', 'buy_price': '140', 'sell_price': '141', '24H_fluctate': '3', '24H_fluctate_rate': '2.18'}, 'TRUE': {'opening_price': '285', 'closing_price': '292', 'min_price': '280', 'max_price': '306', 'average_price': '292.096', 'units_traded': '488661.41580572', 'volume_1day': '488661.41580572', 'volume_7day': '6717121.508066149412041869', 'buy_price': '293', 'sell_price': '295', '24H_fluctate': '7', '24H_fluctate_rate': '2.45'}, 'ABT': {'opening_price': '101', 'closing_price': '99', 'min_price': '92.8', 'max_price': '128', 'average_price': '108.3654', 'units_traded': '30612127.22050168', 'volume_1day': '30612127.22050168', 'volume_7day': '41358963.258004442921137791', 'buy_price': '98.2', 'sell_price': '99', '24H_fluctate': '-2', '24H_fluctate_rate': '-1.98'}, 'RNT': {'opening_price': '99.5', 'closing_price': '141', 'min_price': '96.4', 'max_price': '164', 'average_price': '135.0595', 'units_traded': '69776597.19896341', 'volume_1day': '69776597.19896341', 'volume_7day': '109269788.023012830357532673', 'buy_price': '139', 'sell_price': '141', '24H_fluctate': '41.5', '24H_fluctate_rate': '41.70'}, 'PLY': {'opening_price': '38.4', 'closing_price': '38.6', 'min_price': '36.9', 'max_price': '41.3', 'average_price': '39.0523', 'units_traded': '29566097.44576236', 'volume_1day': '29566097.44576236', 'volume_7day': '105102037.957594582', 'buy_price': '38.4', 'sell_price': '38.6', '24H_fluctate': '0.2', '24H_fluctate_rate': '0.52'}, 'WAVES': {'opening_price': '3502', 'closing_price': '3471', 'min_price': '3384', 'max_price': '3528', 'average_price': '3460.0484', 'units_traded': '1110979.36288897', 'volume_1day': '1110979.36288897', 'volume_7day': '2930731.73037814', 'buy_price': '3471', 'sell_price': '3487', '24H_fluctate': '-31', '24H_fluctate_rate': '-0.88'}, 'LINK': {'opening_price': '334', 'closing_price': '435', 'min_price': '330', 'max_price': '446', 'average_price': '375.8877', 'units_traded': '1874514.71018832', 'volume_1day': '1874514.71018832', 'volume_7day': '5508074.201653735744749308', 'buy_price': '435', 'sell_price': '438', '24H_fluctate': '101', '24H_fluctate_rate': '30.23'}, 'ENJ': {'opening_price': '45.2', 'closing_price': '44.4', 'min_price': '43.7', 'max_price': '45.9', 'average_price': '44.6645', 'units_traded': '3519838.80037866', 'volume_1day': '3519838.80037866', 'volume_7day': '32878915.884621664890108229', 'buy_price': '44.3', 'sell_price': '44.5', '24H_fluctate': '-0.8', '24H_fluctate_rate': '-1.76'}, 'PST': {'opening_price': '108', 'closing_price': '114', 'min_price': '105', 'max_price': '123', 'average_price': '115.1495', 'units_traded': '3514815.19311568', 'volume_1day': '3514815.19311568', 'volume_7day': '10957203.357934906301717168', 'buy_price': '113', 'sell_price': '116', '24H_fluctate': '6', '24H_fluctate_rate': '5.55'}, 'SALT': {'opening_price': '270', 'closing_price': '280', 'min_price': '265', 'max_price': '285', 'average_price': '273.8823', 'units_traded': '1541494.84893363', 'volume_1day': '1541494.84893363', 'volume_7day': '12978395.94101024', 'buy_price': '280', 'sell_price': '281', '24H_fluctate': '10', '24H_fluctate_rate': '3.70'}, 'RDN': {'opening_price': '262', 'closing_price': '317', 'min_price': '260', 'max_price': '350', 'average_price': '318.0805', 'units_traded': '6220261.32053866', 'volume_1day': '6220261.32053866', 'volume_7day': '20986606.897394257359668468', 'buy_price': '316', 'sell_price': '318', '24H_fluctate': '55', '24H_fluctate_rate': '20.99'}, 'LOOM': {'opening_price': '50.6', 'closing_price': '55.6', 'min_price': '50.2', 'max_price': '60', 'average_price': '55.1164', 'units_traded': '10874968.0389713', 'volume_1day': '10874968.0389713', 'volume_7day': '27886054.178619631791954907', 'buy_price': '55.6', 'sell_price': '56', '24H_fluctate': '5', '24H_fluctate_rate': '9.88'}, 'BHPC': {'opening_price': '915', 'closing_price': '917', 'min_price': '895', 'max_price': '930', 'average_price': '910.3161', 'units_traded': '700971.67480982', 'volume_1day': '700971.67480982', 'volume_7day': '9508964.003103000926551395', 'buy_price': '912', 'sell_price': '917', '24H_fluctate': '2', '24H_fluctate_rate': '0.21'}, 'PIVX': {'opening_price': '947', 'closing_price': '967', 'min_price': '929', 'max_price': '990', 'average_price': '961.6915', 'units_traded': '381408.65251671', 'volume_1day': '381408.65251671', 'volume_7day': '10767117.21531736', 'buy_price': '966', 'sell_price': '970', '24H_fluctate': '20', '24H_fluctate_rate': '2.11'}, 'INS': {'opening_price': '310', 'closing_price': '329', 'min_price': '307', 'max_price': '369', 'average_price': '332.6452', 'units_traded': '2638819.79443219', 'volume_1day': '2638819.79443219', 'volume_7day': '10241148.992852938', 'buy_price': '327', 'sell_price': '329', '24H_fluctate': '19', '24H_fluctate_rate': '6.12'}, 'BCD': {'opening_price': '1011', 'closing_price': '1031', 'min_price': '1002', 'max_price': '1040', 'average_price': '1022.1763', 'units_traded': '221514.40942678', 'volume_1day': '221514.40942678', 'volume_7day': '2455898.98882558', 'buy_price': '1031', 'sell_price': '1043', '24H_fluctate': '20', '24H_fluctate_rate': '1.97'}, 'BZNT': {'opening_price': '25.9', 'closing_price': '27.6', 'min_price': '25.4', 'max_price': '31.9', 'average_price': '29.2049', 'units_traded': '92377863.72526558', 'volume_1day': '92377863.72526558', 'volume_7day': '164836680.516019928969348457', 'buy_price': '27.5', 'sell_price': '27.6', '24H_fluctate': '1.7', '24H_fluctate_rate': '6.56'}, 'XLM': {'opening_price': '128', 'closing_price': '130', 'min_price': '126', 'max_price': '133', 'average_price': '129.3273', 'units_traded': '7125914.53730881', 'volume_1day': '7125914.53730881', 'volume_7day': '52939399.12068626', 'buy_price': '130', 'sell_price': '131', '24H_fluctate': '2', '24H_fluctate_rate': '1.56'}, 'OCN': {'opening_price': '4.07', 'closing_price': '3.95', 'min_price': '3.87', 'max_price': '4.1', 'average_price': '3.9675', 'units_traded': '84310414.95827224', 'volume_1day': '84310414.95827224', 'volume_7day': '1977901710.943272945025734319', 'buy_price': '3.95', 'sell_price': '3.98', '24H_fluctate': '-0.12', '24H_fluctate_rate': '-2.94'}, 'BSV': {'opening_price': '102400', 'closing_price': '102700', 'min_price': '100000', 'max_price': '106900', 'average_price': '102791.6443', 'units_traded': '39813.1552622', 'volume_1day': '39813.1552622', 'volume_7day': '291250.16002145', 'buy_price': '102600', 'sell_price': '102900', '24H_fluctate': '300', '24H_fluctate_rate': '0.29'}, 'TMTG': {'opening_price': '8.44', 'closing_price': '8.36', 'min_price': '8.3', 'max_price': '8.5', 'average_price': '8.3875', 'units_traded': '205009121.4644009', 'volume_1day': '205009121.4644009', 'volume_7day': '1405909360.503860708761798155', 'buy_price': '8.35', 'sell_price': '8.37', '24H_fluctate': '-0.08', '24H_fluctate_rate': '-0.94'}, 'BAT': {'opening_price': '147', 'closing_price': '149', 'min_price': '145', 'max_price': '154', 'average_price': '148.6114', 'units_traded': '1270191.85854217', 'volume_1day': '1270191.85854217', 'volume_7day': '6921766.670851938532966919', 'buy_price': '148', 'sell_price': '149', '24H_fluctate': '2', '24H_fluctate_rate': '1.36'}, 'WET': {'opening_price': '13.8', 'closing_price': '14.2', 'min_price': '13.6', 'max_price': '14.6', 'average_price': '14.109', 'units_traded': '32013008.67780886', 'volume_1day': '32013008.67780886', 'volume_7day': '218468623.371768161936344749', 'buy_price': '14.1', 'sell_price': '14.2', '24H_fluctate': '0.4', '24H_fluctate_rate': '2.89'}, 'XVG': {'opening_price': '7.9', 'closing_price': '7.98', 'min_price': '7.78', 'max_price': '8.09', 'average_price': '7.9188', 'units_traded': '6650421.22235046', 'volume_1day': '6650421.22235046', 'volume_7day': '52470438.46362393', 'buy_price': '7.97', 'sell_price': '8.03', '24H_fluctate': '0.08', '24H_fluctate_rate': '1.01'}, 'IOST': {'opening_price': '6.08', 'closing_price': '6.39', 'min_price': '6.05', 'max_price': '6.63', 'average_price': '6.3878', 'units_traded': '470183252.2991453', 'volume_1day': '470183252.2991453', 'volume_7day': '1076855950.493160944748355167', 'buy_price': '6.4', 'sell_price': '6.46', '24H_fluctate': '0.31', '24H_fluctate_rate': '5.09'}, 'POLY': {'opening_price': '157', 'closing_price': '160', 'min_price': '155', 'max_price': '165', 'average_price': '159.9917', 'units_traded': '1072466.08679356', 'volume_1day': '1072466.08679356', 'volume_7day': '13740007.437669457706647263', 'buy_price': '159', 'sell_price': '160', '24H_fluctate': '3', '24H_fluctate_rate': '1.91'}, 'HC': {'opening_price': '1432', 'closing_price': '1438', 'min_price': '1390', 'max_price': '1453', 'average_price': '1420.4274', 'units_traded': '67938.90892437', 'volume_1day': '67938.90892437', 'volume_7day': '1087609.38083894', 'buy_price': '1422', 'sell_price': '1438', '24H_fluctate': '6', '24H_fluctate_rate': '0.41'}, 'MEETONE': [], 'ADD': [], 'HORUS': [], 'CHL': [], 'EOSDAC': [], 'BLACK': [], 'ROM': {'opening_price': '0.14', 'closing_price': '0.13', 'min_price': '0.12', 'max_price': '0.14', 'average_price': '0.1276', 'units_traded': '20441083144.83821923', 'volume_1day': '20441083144.83821923', 'volume_7day': '175540207615.958358583380084302', 'buy_price': '0.12', 'sell_price': '0.13', '24H_fluctate': '-0.01', '24H_fluctate_rate': '-7.14'}, 'AMO': {'opening_price': '2', 'closing_price': '1.75', 'min_price': '1.66', 'max_price': '2.8', 'average_price': '1.7937', 'units_traded': '23568447309.78371338', 'volume_1day': '23568447309.78371338', 'volume_7day': '23562022975.014399095610587263', 'buy_price': '1.74', 'sell_price': '1.75', '24H_fluctate': '-0.25', '24H_fluctate_rate': '-12.50'}, 'date': '1546490639304'}\n"
     ]
    }
   ],
   "source": [
    "currency = requests.get('https://api.bithumb.com/public/ticker/all').json()['data']\n",
    "print(currency)"
   ]
  },
  {
   "cell_type": "code",
   "execution_count": 15,
   "metadata": {},
   "outputs": [
    {
     "name": "stdout",
     "output_type": "stream",
     "text": [
      "BTC 상승장\n",
      "ETH 상승장\n",
      "DASH 상승장\n",
      "LTC 상승장\n",
      "ETC 상승장\n",
      "XRP 상승장\n",
      "BCH 상승장\n",
      "XMR 상승장\n",
      "ZEC 상승장\n",
      "QTUM 상승장\n",
      "BTG 상승장\n",
      "EOS 상승장\n",
      "ICX 상승장\n",
      "VET 상승장\n",
      "TRX 상승장\n",
      "ELF 상승장\n",
      "MITH 상승장\n",
      "MCO 상승장\n",
      "OMG 상승장\n",
      "KNC 하락장\n",
      "GNT 상승장\n",
      "ZIL 상승장\n",
      "ETHOS 상승장\n",
      "PAY 상승장\n",
      "WAX 상승장\n",
      "POWR 상승장\n",
      "LRC 상승장\n",
      "GTO 상승장\n",
      "STEEM 상승장\n",
      "STRAT 상승장\n",
      "ZRX 하락장\n",
      "REP 상승장\n",
      "AE 상승장\n",
      "XEM 상승장\n",
      "SNT 상승장\n",
      "ADA 상승장\n",
      "PPT 상승장\n",
      "CTXC 상승장\n",
      "CMT 상승장\n",
      "THETA 상승장\n",
      "WTC 상승장\n",
      "ITC 상승장\n",
      "TRUE 상승장\n",
      "ABT 상승장\n",
      "RNT 상승장\n",
      "PLY 상승장\n",
      "WAVES 상승장\n",
      "LINK 상승장\n",
      "ENJ 상승장\n",
      "PST 상승장\n",
      "SALT 상승장\n",
      "RDN 상승장\n",
      "LOOM 상승장\n",
      "BHPC 상승장\n",
      "PIVX 상승장\n",
      "INS 상승장\n",
      "BCD 상승장\n",
      "BZNT 상승장\n",
      "XLM 상승장\n",
      "OCN 상승장\n",
      "BSV 상승장\n",
      "TMTG 상승장\n",
      "BAT 상승장\n",
      "WET 상승장\n",
      "XVG 상승장\n",
      "IOST 상승장\n",
      "POLY 상승장\n",
      "HC 상승장\n",
      "ROM 상승장\n",
      "AMO 상승장\n"
     ]
    }
   ],
   "source": [
    "for i in currency:\n",
    "    if 'opening_price' in currency[i]:\n",
    "        h = float(currency[i]['opening_price'])+float(currency[i]['max_price'])-float(currency[i]['min_price'])\n",
    "        if h > float(currency[i]['max_price']):\n",
    "            print(f'{i} ''상승장''')\n",
    "        else :\n",
    "            print(f'{i} ''하락장''')\n",
    "            \n",
    "        "
   ]
  },
  {
   "cell_type": "code",
   "execution_count": null,
   "metadata": {},
   "outputs": [],
   "source": []
  }
 ],
 "metadata": {
  "kernelspec": {
   "display_name": "Python 3",
   "language": "python",
   "name": "python3"
  },
  "language_info": {
   "codemirror_mode": {
    "name": "ipython",
    "version": 3
   },
   "file_extension": ".py",
   "mimetype": "text/x-python",
   "name": "python",
   "nbconvert_exporter": "python",
   "pygments_lexer": "ipython3",
   "version": "3.7.1"
  },
  "toc": {
   "base_numbering": 1,
   "nav_menu": {},
   "number_sections": true,
   "sideBar": true,
   "skip_h1_title": false,
   "title_cell": "Table of Contents",
   "title_sidebar": "Contents",
   "toc_cell": false,
   "toc_position": {},
   "toc_section_display": true,
   "toc_window_display": false
  }
 },
 "nbformat": 4,
 "nbformat_minor": 2
}
