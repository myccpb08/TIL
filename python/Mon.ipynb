{
 "cells": [
  {
   "cell_type": "markdown",
   "metadata": {},
   "source": [
    "<h1>문자열<h1>"
   ]
  },
  {
   "cell_type": "markdown",
   "metadata": {},
   "source": [
    "<h3> .capitalize()    .title()    .upper()   .lower() <h3>"
   ]
  },
  {
   "cell_type": "code",
   "execution_count": 1,
   "metadata": {},
   "outputs": [
    {
     "name": "stdout",
     "output_type": "stream",
     "text": [
      "Hi! everyone, i'm hwang\n",
      "hi! everyone, i'm hwang\n",
      "Hi! Everyone, I'M Hwang\n",
      "hi! everyone, i'm hwang\n",
      "HI! EVERYONE, I'M HWANG\n",
      "hi! everyone, i'm hwang\n",
      "hi! everyone, i'm hwang\n",
      "HI! EVERYONE, I'M HWANG\n"
     ]
    }
   ],
   "source": [
    "a=\"hi! everyone, i'm hwang\"\n",
    "print(a.capitalize())  # 첫 글자를 대문자로 만들어  📌반! 환!  (a 자체는 변하지 않는다)\n",
    "print(a)\n",
    "\n",
    "print(a.title()) # 반환\n",
    "print(a)  # a값 변화 없음\n",
    "\n",
    "print(a.upper())  # 반환\n",
    "print(a)\n",
    "\n",
    "print(a.lower())\n",
    "print(a.swapcase())"
   ]
  },
  {
   "cell_type": "markdown",
   "metadata": {},
   "source": [
    "<h3> .join(iterable)     .replace(old, new[,count])  .strip()  .find(x)   .index(x)  </h3>"
   ]
  },
  {
   "cell_type": "code",
   "execution_count": 2,
   "metadata": {},
   "outputs": [
    {
     "name": "stdout",
     "output_type": "stream",
     "text": [
      "배!고!파\n",
      "배고파\n"
     ]
    },
    {
     "data": {
      "text/plain": [
       "'hibaboya'"
      ]
     },
     "execution_count": 2,
     "metadata": {},
     "output_type": "execute_result"
    }
   ],
   "source": [
    "# '끼우고 싶은 거'. join('끼울 곳')    ## join 리스트도 가능\n",
    "a='배고파'\n",
    "'!'.join('배고파')   #📌 반환\n",
    "print('!'.join('배고파'))\n",
    "print(a) # a는 변화 없음\n",
    "\n",
    "a=['hi','baboya']\n",
    "''.join(a)"
   ]
  },
  {
   "cell_type": "code",
   "execution_count": 3,
   "metadata": {},
   "outputs": [
    {
     "data": {
      "text/plain": [
       "'_q_'"
      ]
     },
     "execution_count": 3,
     "metadata": {},
     "output_type": "execute_result"
    }
   ],
   "source": [
    "'yqy'.replace('y','_') # 반환"
   ]
  },
  {
   "cell_type": "markdown",
   "metadata": {},
   "source": [
    "<h3> split() 문자열을 특정 단위로 나누어 리스트로 반환 </h3>"
   ]
  },
  {
   "cell_type": "code",
   "execution_count": 4,
   "metadata": {},
   "outputs": [
    {
     "data": {
      "text/plain": [
       "['a', 'b', 'c']"
      ]
     },
     "execution_count": 4,
     "metadata": {},
     "output_type": "execute_result"
    }
   ],
   "source": [
    "'a_b_c'.split('_')"
   ]
  },
  {
   "cell_type": "code",
   "execution_count": 9,
   "metadata": {},
   "outputs": [
    {
     "name": "stdout",
     "output_type": "stream",
     "text": [
      "이 김 박\n",
      "['이', '김', '박']\n"
     ]
    }
   ],
   "source": [
    "inputs = input().split()\n",
    "print(inputs)"
   ]
  },
  {
   "cell_type": "markdown",
   "metadata": {},
   "source": [
    "<h2> 리스트<h2> append 는 1개, extend 여러개, insert(i,x)  , find는 안 됨,  index 는 됨"
   ]
  },
  {
   "cell_type": "code",
   "execution_count": 13,
   "metadata": {},
   "outputs": [
    {
     "name": "stdout",
     "output_type": "stream",
     "text": [
      "[]\n",
      "['starbucks', 'tomntoms', 'hollys', 'ediya']\n"
     ]
    }
   ],
   "source": [
    "# 어렵게 넣어보도록 해봅시다.\n",
    "cafe=['starbucks','tomntoms','hollys']\n",
    "cafe[len(cafe):]=['ediya']\n",
    "print(cafe[len(cafe):])     # 인덱스 넘어가는 건 빈 리스트\n",
    "print(cafe)"
   ]
  },
  {
   "cell_type": "code",
   "execution_count": 14,
   "metadata": {},
   "outputs": [
    {
     "name": "stdout",
     "output_type": "stream",
     "text": [
      "None\n",
      "[4, 3, 2, 1]\n"
     ]
    }
   ],
   "source": [
    "b=[1,2,3,4]\n",
    "print(b.reverse())   # b.reverse() 자체는 📌아무런 반환이 없고, \n",
    "print(b) # b 자체의 값이 바뀐다"
   ]
  },
  {
   "cell_type": "code",
   "execution_count": 18,
   "metadata": {},
   "outputs": [
    {
     "data": {
      "text/plain": [
       "<list_reverseiterator at 0x20c64759b38>"
      ]
     },
     "execution_count": 18,
     "metadata": {},
     "output_type": "execute_result"
    }
   ],
   "source": [
    "c=[1,2,3,4]\n",
    "print(reversed(c))  # reversed() 도 반환값 없음\n",
    "print(c) # c값 자체는 바뀌지 않는다\n",
    "list(reversed(c))  # 출력위해서는 list 로 다시 감싸야 한다"
   ]
  },
  {
   "cell_type": "markdown",
   "metadata": {},
   "source": [
    "<span style=\"font-family: byddokddok ; font-size:13pt\"> 리스트복사 : 그냥 = 하면, 변경 반영 안 됨 <br>\n",
    "가벼운 복사 : 슬라이싱 하거나, 리스트씌우기 (원본의 리스트 안의 리스트가 지켜지지 않는다) <br>\n",
    "깊은 복사 : 원본 다 지켜짐 </span>"
   ]
  },
  {
   "cell_type": "code",
   "execution_count": 16,
   "metadata": {},
   "outputs": [
    {
     "name": "stdout",
     "output_type": "stream",
     "text": [
      "[1, 2, [1, 2]]\n",
      "[1, 2, [3, 2]]\n"
     ]
    }
   ],
   "source": [
    "import copy\n",
    "a=[1,2,[1,2]]\n",
    "b=copy.deepcopy(a)    # ★★★★\n",
    "b[2][0]=3\n",
    "print(a)\n",
    "print(b)"
   ]
  },
  {
   "cell_type": "code",
   "execution_count": null,
   "metadata": {},
   "outputs": [],
   "source": []
  }
 ],
 "metadata": {
  "kernelspec": {
   "display_name": "Python 3",
   "language": "python",
   "name": "python3"
  },
  "language_info": {
   "codemirror_mode": {
    "name": "ipython",
    "version": 3
   },
   "file_extension": ".py",
   "mimetype": "text/x-python",
   "name": "python",
   "nbconvert_exporter": "python",
   "pygments_lexer": "ipython3",
   "version": "3.7.1"
  }
 },
 "nbformat": 4,
 "nbformat_minor": 2
}
