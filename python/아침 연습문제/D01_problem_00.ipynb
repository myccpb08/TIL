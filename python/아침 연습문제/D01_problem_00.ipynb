{
 "cells": [
  {
   "cell_type": "code",
   "execution_count": 10,
   "metadata": {},
   "outputs": [],
   "source": [
    "# 문제\n",
    "n=5\n",
    "m=9"
   ]
  },
  {
   "cell_type": "code",
   "execution_count": 41,
   "metadata": {},
   "outputs": [
    {
     "name": "stdout",
     "output_type": "stream",
     "text": [
      "*****\n",
      "*****\n",
      "*****\n",
      "*****\n",
      "*****\n",
      "*****\n",
      "*****\n",
      "*****\n",
      "*****\n",
      "\n"
     ]
    }
   ],
   "source": [
    "# 정답\n",
    "print(('*'*n+'\\n')*m)"
   ]
  },
  {
   "cell_type": "code",
   "execution_count": 17,
   "metadata": {},
   "outputs": [],
   "source": [
    "# 문제\n",
    "student = {'python':80, 'algorithm':99, 'django':89, 'flask':83}"
   ]
  },
  {
   "cell_type": "code",
   "execution_count": 43,
   "metadata": {},
   "outputs": [
    {
     "name": "stdout",
     "output_type": "stream",
     "text": [
      "87.75\n"
     ]
    }
   ],
   "source": [
    "#정답\n",
    "print(sum(student.values())/len(student))"
   ]
  },
  {
   "cell_type": "code",
   "execution_count": 29,
   "metadata": {},
   "outputs": [],
   "source": [
    "# 문제\n",
    "blood_types = ['A', 'B', 'A', 'O' 'AB', 'AB', 'O', 'A', 'B', 'O', 'B', 'AB']"
   ]
  },
  {
   "cell_type": "code",
   "execution_count": 47,
   "metadata": {},
   "outputs": [
    {
     "name": "stdout",
     "output_type": "stream",
     "text": [
      "{'A': 3, 'B': 3, 'O': 2, 'AB': 2}\n",
      "\n",
      "\n",
      "A형은 3명\n",
      "B형은 3명\n",
      "O형은 2명\n",
      "AB형은 2명\n",
      "\n",
      "\n",
      "{'A': 3, 'B': 3, 'OAB': 1, 'AB': 2, 'O': 2}\n"
     ]
    }
   ],
   "source": [
    "#정답\n",
    "\n",
    "#풀이 1\n",
    "\n",
    "dict={'A' : blood_types.count('A'), 'B':blood_types.count('B'),'O' : blood_types.count('O'),'AB' : blood_types.count('AB'),}\n",
    "print(dict)\n",
    "\n",
    "print('\\n')\n",
    "\n",
    "#풀이2\n",
    "\n",
    "d=['A', 'B', 'O', 'AB']\n",
    "for i in d:\n",
    "    print(f'{i}형은 {blood_types.count(i)}명')\n",
    "    \n",
    "print('\\n')\n",
    "\n",
    "# 강사님 풀이 반복문 이용\n",
    "result={}\n",
    "for blood_type in blood_types :\n",
    "    if blood_type in result:\n",
    "        result[blood_type]+=1\n",
    "    else:\n",
    "        result[blood_type]= 1\n",
    "print(result)"
   ]
  },
  {
   "cell_type": "code",
   "execution_count": null,
   "metadata": {},
   "outputs": [],
   "source": []
  }
 ],
 "metadata": {
  "kernelspec": {
   "display_name": "Python 3",
   "language": "python",
   "name": "python3"
  },
  "language_info": {
   "codemirror_mode": {
    "name": "ipython",
    "version": 3
   },
   "file_extension": ".py",
   "mimetype": "text/x-python",
   "name": "python",
   "nbconvert_exporter": "python",
   "pygments_lexer": "ipython3",
   "version": "3.7.1"
  }
 },
 "nbformat": 4,
 "nbformat_minor": 2
}
